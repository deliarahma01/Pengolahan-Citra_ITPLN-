{
 "cells": [
  {
   "cell_type": "code",
   "execution_count": 1,
   "id": "423f63f7",
   "metadata": {},
   "outputs": [],
   "source": [
    "import cv2\n",
    "import numpy as np\n",
    "from matplotlib import pyplot as plt #202131165_Delia Rahma Prabawati"
   ]
  },
  {
   "cell_type": "code",
   "execution_count": 2,
   "id": "8d3a9b6a",
   "metadata": {},
   "outputs": [],
   "source": [
    "daun = cv2.imread(\"daun.jpg\", 0)\n",
    "tinggi, lebar = daun.shape #202131165_Delia Rahma Prabawati"
   ]
  },
  {
   "cell_type": "code",
   "execution_count": 3,
   "id": "4291cbb5",
   "metadata": {},
   "outputs": [],
   "source": [
    "cv2.imshow(\"Gambar Asli Daun\", daun)\n",
    "cv2.waitKey()\n",
    "cv2.destroyAllWindows() #202131165_Delia Rahma Prabawati"
   ]
  },
  {
   "cell_type": "markdown",
   "id": "b856f0c6",
   "metadata": {},
   "source": [
    "# Pengembangan Dwi Aras dengan perkiraan nilai ambang"
   ]
  },
  {
   "cell_type": "code",
   "execution_count": 4,
   "id": "28b73882",
   "metadata": {},
   "outputs": [],
   "source": [
    "nilai_ambang = 128\n",
    "daun_hasil = daun.copy()\n",
    "for x in range(tinggi):\n",
    "    for y in range(lebar):\n",
    "        if daun[x,y] < nilai_ambang:\n",
    "            daun_hasil[x,y] = 0\n",
    "        else :\n",
    "            daun_hasil[x,y] = 255 #202131165_Delia Rahma Prabawati"
   ]
  },
  {
   "cell_type": "code",
   "execution_count": 5,
   "id": "b16ff63d",
   "metadata": {},
   "outputs": [],
   "source": [
    "cv2.imshow(\"aras daun\", daun_hasil)\n",
    "cv2.waitKey()\n",
    "cv2.destroyAllWindows() #202131165_Delia Rahma Prabawati"
   ]
  },
  {
   "cell_type": "markdown",
   "id": "2606121c",
   "metadata": {},
   "source": [
    "# Menentukan Nilai Ambang Suatu Gambar"
   ]
  },
  {
   "cell_type": "code",
   "execution_count": 10,
   "id": "06db4d6b",
   "metadata": {},
   "outputs": [],
   "source": [
    "def titeratif(image) :\n",
    "    tinggi, lebar = image.shape\n",
    "    t0 = 127\n",
    "    while(True) :\n",
    "        rata_kiri = 0;\n",
    "        rata_kanan = 0;\n",
    "        jum_kiri = 0;\n",
    "        jum_kanan = 0;\n",
    "        for x in range(tinggi):\n",
    "            for y in range(lebar):\n",
    "                if (image[x,y] <= 127):\n",
    "                    rata_kiri = rata_kiri + image[x,y]\n",
    "                    jum_kiri = jum_kiri + 1\n",
    "                else :\n",
    "                    rata_kanan = rata_kanan + image[x,y]\n",
    "                    jum_kanan = jum_kanan + 1\n",
    "                    \n",
    "        rata_kiri = rata_kiri / jum_kiri\n",
    "        rata_kanan = rata_kanan / jum_kanan\n",
    "        t1 = (rata_kiri + rata_kanan) / 2\n",
    "        if ((t0 - t1) < 1):\n",
    "            break\n",
    "        t0 = t1\n",
    "    return round(t1) #202131165_Delia Rahma Prabawati\n",
    "                "
   ]
  },
  {
   "cell_type": "code",
   "execution_count": 11,
   "id": "24a74c16",
   "metadata": {},
   "outputs": [
    {
     "data": {
      "text/plain": [
       "131"
      ]
     },
     "execution_count": 11,
     "metadata": {},
     "output_type": "execute_result"
    }
   ],
   "source": [
    "titeratif(daun) #202131165_Delia Rahma Prabawati"
   ]
  },
  {
   "cell_type": "code",
   "execution_count": null,
   "id": "f0564cdf",
   "metadata": {},
   "outputs": [],
   "source": []
  }
 ],
 "metadata": {
  "kernelspec": {
   "display_name": "Python 3 (ipykernel)",
   "language": "python",
   "name": "python3"
  },
  "language_info": {
   "codemirror_mode": {
    "name": "ipython",
    "version": 3
   },
   "file_extension": ".py",
   "mimetype": "text/x-python",
   "name": "python",
   "nbconvert_exporter": "python",
   "pygments_lexer": "ipython3",
   "version": "3.9.13"
  }
 },
 "nbformat": 4,
 "nbformat_minor": 5
}
